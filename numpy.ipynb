{
 "cells": [
  {
   "cell_type": "markdown",
   "id": "5aff0b46-250f-4596-a543-7ed664f3d6f8",
   "metadata": {},
   "source": [
    "# Numpy\n",
    "numeric python\n",
    "Arrays, arrays multidimensionais (matriz)\n",
    "Elementos tem que ter o mesmo\n",
    "Processamento rápido"
   ]
  },
  {
   "cell_type": "code",
   "execution_count": 1,
   "id": "533a0cee-2b09-434b-90f0-e017b6aa7964",
   "metadata": {},
   "outputs": [],
   "source": [
    "# importar a biblioteca\n",
    "import numpy as np"
   ]
  },
  {
   "cell_type": "code",
   "execution_count": 2,
   "id": "59768b5c-1a58-49a3-8c8f-853106577c17",
   "metadata": {},
   "outputs": [
    {
     "name": "stdout",
     "output_type": "stream",
     "text": [
      "[1 3 5 7]\n"
     ]
    }
   ],
   "source": [
    "# Criar um array\n",
    "array = np.array([1, 3, 5, 7])\n",
    "print(array)"
   ]
  },
  {
   "cell_type": "code",
   "execution_count": 3,
   "id": "8ecd8383-b6ee-4dc8-b764-106690e545c1",
   "metadata": {},
   "outputs": [
    {
     "name": "stdout",
     "output_type": "stream",
     "text": [
      "<class 'numpy.ndarray'>\n"
     ]
    }
   ],
   "source": [
    "#Tipo: type()\n",
    "print(type(array))"
   ]
  },
  {
   "cell_type": "code",
   "execution_count": 4,
   "id": "4e830334-092c-4cf1-b455-e53782d6f339",
   "metadata": {},
   "outputs": [
    {
     "name": "stdout",
     "output_type": "stream",
     "text": [
      "[1.2     3.6     4.99999]\n"
     ]
    }
   ],
   "source": [
    "# Definir o tipo dos elementos\n",
    "# Array de floats\n",
    "array_float = np.array([1.2, 3.6, 4.99999])\n",
    "print(array_float)"
   ]
  },
  {
   "cell_type": "code",
   "execution_count": 6,
   "id": "02a9f926-553a-4b67-850c-04d979f06749",
   "metadata": {},
   "outputs": [
    {
     "name": "stdout",
     "output_type": "stream",
     "text": [
      "[ 1.  2. 30.]\n"
     ]
    }
   ],
   "source": [
    "array_float = np.array([1, 2, 30], dtype = np.float64)\n",
    "print(array_float)"
   ]
  },
  {
   "cell_type": "code",
   "execution_count": 7,
   "id": "940075b0-2b70-45a1-ab85-284c1cca44c6",
   "metadata": {},
   "outputs": [
    {
     "name": "stdout",
     "output_type": "stream",
     "text": [
      "[ 1  2 30]\n"
     ]
    }
   ],
   "source": [
    "# Array de inteiros\n",
    "array_int = np.array([1, 2, 30], dtype = np.int32)\n",
    "print(array_int)"
   ]
  },
  {
   "cell_type": "markdown",
   "id": "4273fcd2-b15b-49b8-8ea8-6aff0cd5bf20",
   "metadata": {},
   "source": [
    "## Alterar o tipo do array"
   ]
  },
  {
   "cell_type": "code",
   "execution_count": 9,
   "id": "db1f77a4-2bd8-4888-ab3e-78fd59f9b132",
   "metadata": {},
   "outputs": [
    {
     "name": "stdout",
     "output_type": "stream",
     "text": [
      "[1 4 8 9]\n"
     ]
    }
   ],
   "source": [
    "# Alterar de float para inteiro\n",
    "array1 = np.array([1.2, 4.8, 8.3, 9.999])\n",
    "\n",
    "array1_convertido = array1.astype(np.int32)\n",
    "print(array1_convertido)"
   ]
  },
  {
   "cell_type": "code",
   "execution_count": 11,
   "id": "614bca36-32ce-46c6-afaf-df994891c003",
   "metadata": {},
   "outputs": [
    {
     "name": "stdout",
     "output_type": "stream",
     "text": [
      "[1. 6. 8. 3.]\n"
     ]
    }
   ],
   "source": [
    "# Alterar de inteiro para float\n",
    "array2 = np.array([1, 6, 8, 3])\n",
    "\n",
    "array2_int = array2.astype(np.float64)\n",
    "print(array2_int)"
   ]
  },
  {
   "cell_type": "markdown",
   "id": "83ec3de6-b4d6-42bc-9ea1-c867b17b91da",
   "metadata": {},
   "source": [
    "## Arrays multidimensionais"
   ]
  },
  {
   "cell_type": "code",
   "execution_count": 12,
   "id": "4ae30d27-5835-42b6-890f-5149dd87698f",
   "metadata": {},
   "outputs": [
    {
     "name": "stdout",
     "output_type": "stream",
     "text": [
      "[[1 2 3]\n",
      " [3 4 5]]\n"
     ]
    }
   ],
   "source": [
    "# Criar um array bidimensional (matriz)\n",
    "# linhas X colunas \n",
    "matriz = np.array([[1, 2, 3], [3, 4, 5]])\n",
    "print(matriz)"
   ]
  },
  {
   "cell_type": "code",
   "execution_count": 14,
   "id": "760e9823-20c9-42c6-ad25-cac364f5f9f4",
   "metadata": {},
   "outputs": [
    {
     "name": "stdout",
     "output_type": "stream",
     "text": [
      "(2, 3)\n"
     ]
    }
   ],
   "source": [
    "# Para verificar o formato (tamanho) da matriz \n",
    "print(matriz.shape)"
   ]
  },
  {
   "cell_type": "code",
   "execution_count": 15,
   "id": "152525f3-ea84-49b8-ae2f-296748f9dbb6",
   "metadata": {},
   "outputs": [
    {
     "name": "stdout",
     "output_type": "stream",
     "text": [
      "[[0. 0.]\n",
      " [0. 0.]\n",
      " [0. 0.]\n",
      " [0. 0.]]\n"
     ]
    }
   ],
   "source": [
    "# Criar uma matriz contendo elementos de valor zero\n",
    "matriz_zero = np.zeros([4, 2])\n",
    "print(matriz_zero)"
   ]
  },
  {
   "cell_type": "code",
   "execution_count": 16,
   "id": "46489e21-2ce4-460e-9e05-594aec43b114",
   "metadata": {},
   "outputs": [
    {
     "name": "stdout",
     "output_type": "stream",
     "text": [
      "[[1. 1. 1. 1.]\n",
      " [1. 1. 1. 1.]\n",
      " [1. 1. 1. 1.]]\n"
     ]
    }
   ],
   "source": [
    "#Criar uma matriz contendo 1\n",
    "matriz_um = np.ones([3, 4])\n",
    "print(matriz_um)"
   ]
  },
  {
   "cell_type": "code",
   "execution_count": 17,
   "id": "9005af10-5594-4d4c-a9c1-d606e0811fc4",
   "metadata": {},
   "outputs": [
    {
     "name": "stdout",
     "output_type": "stream",
     "text": [
      "[[0 0 0]\n",
      " [0 0 0]]\n"
     ]
    }
   ],
   "source": [
    "# Criar uma matriz 2 X 3 de 0 inteiros \n",
    "matriz_zero_int = np.zeros([2, 3], dtype = np.int32)\n",
    "print(matriz_zero_int)"
   ]
  },
  {
   "cell_type": "code",
   "execution_count": 18,
   "id": "720f1c2c-5c6f-42c9-9da3-af2a7a1ba642",
   "metadata": {},
   "outputs": [
    {
     "name": "stdout",
     "output_type": "stream",
     "text": [
      "[[1. 0. 0.]\n",
      " [0. 1. 0.]\n",
      " [0. 0. 1.]]\n"
     ]
    }
   ],
   "source": [
    "#Matriz identidade\n",
    "# Matriz quadrada (mesmo número de linhas e colunas)\n",
    "# Diagonal principal tem valor 1\n",
    "matriz_identidade = np.eye(3)\n",
    "print(matriz_identidade)"
   ]
  },
  {
   "cell_type": "markdown",
   "id": "3efaa8e5-1eba-4488-a306-647090918a60",
   "metadata": {},
   "source": [
    "## Valores aleatórios"
   ]
  },
  {
   "cell_type": "code",
   "execution_count": 19,
   "id": "0555bea4-5f42-47b9-98f1-1f67f56bbf8c",
   "metadata": {},
   "outputs": [
    {
     "name": "stdout",
     "output_type": "stream",
     "text": [
      "[0.9433353  0.75453907 0.03133133 0.4215831 ]\n"
     ]
    }
   ],
   "source": [
    "# Array com valores aleatórios entre 0 e 1\n",
    "array_aleatorio = np.random.random(4)\n",
    "print(array_aleatorio)"
   ]
  },
  {
   "cell_type": "code",
   "execution_count": 20,
   "id": "ae729897-07a7-4021-a01a-76b987e7b935",
   "metadata": {},
   "outputs": [
    {
     "name": "stdout",
     "output_type": "stream",
     "text": [
      "[[0.00321543 0.73584985 0.18918916]\n",
      " [0.72441171 0.36366217 0.82750029]]\n"
     ]
    }
   ],
   "source": [
    "# Matriz com valores aleatórios entre 0 e 1\n",
    "matriz_aleatoria = np.random.random([2, 3])\n",
    "print(matriz_aleatoria)"
   ]
  },
  {
   "cell_type": "code",
   "execution_count": 22,
   "id": "3cd83e93-040d-448f-87f7-935afff225cd",
   "metadata": {},
   "outputs": [
    {
     "name": "stdout",
     "output_type": "stream",
     "text": [
      "[1 0 3 2 1]\n"
     ]
    }
   ],
   "source": [
    "# Array de valores aleatorios inteiros\n",
    "array_ale_int = np.random.randint(4, size = 5) #0, 1, 2, 3\n",
    "print(array_ale_int)"
   ]
  },
  {
   "cell_type": "code",
   "execution_count": 25,
   "id": "d2ffdb0c-b1fc-4703-87b8-f6662ddec92e",
   "metadata": {},
   "outputs": [
    {
     "name": "stdout",
     "output_type": "stream",
     "text": [
      "[[ 8 10  3  5]\n",
      " [ 7  6  8  8]\n",
      " [ 5  9  0 10]]\n"
     ]
    }
   ],
   "source": [
    "# Matriz de valores aleatorios inteiros\n",
    "matriz_ale_int = np.random.randint(11, size = (3, 4))\n",
    "print(matriz_ale_int)"
   ]
  },
  {
   "cell_type": "code",
   "execution_count": null,
   "id": "022831f1-0b3d-4910-9217-ffe286287db5",
   "metadata": {},
   "outputs": [],
   "source": []
  }
 ],
 "metadata": {
  "kernelspec": {
   "display_name": "Python 3 (ipykernel)",
   "language": "python",
   "name": "python3"
  },
  "language_info": {
   "codemirror_mode": {
    "name": "ipython",
    "version": 3
   },
   "file_extension": ".py",
   "mimetype": "text/x-python",
   "name": "python",
   "nbconvert_exporter": "python",
   "pygments_lexer": "ipython3",
   "version": "3.12.7"
  }
 },
 "nbformat": 4,
 "nbformat_minor": 5
}
