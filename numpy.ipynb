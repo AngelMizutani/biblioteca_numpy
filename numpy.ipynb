{
 "cells": [
  {
   "cell_type": "markdown",
   "id": "5aff0b46-250f-4596-a543-7ed664f3d6f8",
   "metadata": {},
   "source": [
    "# Numpy\n",
    "numeric python\n",
    "Arrays, arrays multidimensionais (matriz)\n",
    "Elementos tem que ter o mesmo\n",
    "Processamento rápido"
   ]
  },
  {
   "cell_type": "code",
   "execution_count": 1,
   "id": "533a0cee-2b09-434b-90f0-e017b6aa7964",
   "metadata": {},
   "outputs": [],
   "source": [
    "# importar a biblioteca\n",
    "import numpy as np"
   ]
  },
  {
   "cell_type": "code",
   "execution_count": 2,
   "id": "59768b5c-1a58-49a3-8c8f-853106577c17",
   "metadata": {},
   "outputs": [
    {
     "name": "stdout",
     "output_type": "stream",
     "text": [
      "[1 3 5 7]\n"
     ]
    }
   ],
   "source": [
    "# Criar um array\n",
    "array = np.array([1, 3, 5, 7])\n",
    "print(array)"
   ]
  },
  {
   "cell_type": "code",
   "execution_count": 3,
   "id": "8ecd8383-b6ee-4dc8-b764-106690e545c1",
   "metadata": {},
   "outputs": [
    {
     "name": "stdout",
     "output_type": "stream",
     "text": [
      "<class 'numpy.ndarray'>\n"
     ]
    }
   ],
   "source": [
    "#Tipo: type()\n",
    "print(type(array))"
   ]
  },
  {
   "cell_type": "code",
   "execution_count": 4,
   "id": "4e830334-092c-4cf1-b455-e53782d6f339",
   "metadata": {},
   "outputs": [
    {
     "name": "stdout",
     "output_type": "stream",
     "text": [
      "[1.2     3.6     4.99999]\n"
     ]
    }
   ],
   "source": [
    "# Definir o tipo dos elementos\n",
    "# Array de floats\n",
    "array_float = np.array([1.2, 3.6, 4.99999])\n",
    "print(array_float)"
   ]
  },
  {
   "cell_type": "code",
   "execution_count": 6,
   "id": "02a9f926-553a-4b67-850c-04d979f06749",
   "metadata": {},
   "outputs": [
    {
     "name": "stdout",
     "output_type": "stream",
     "text": [
      "[ 1.  2. 30.]\n"
     ]
    }
   ],
   "source": [
    "array_float = np.array([1, 2, 30], dtype = np.float64)\n",
    "print(array_float)"
   ]
  },
  {
   "cell_type": "code",
   "execution_count": 7,
   "id": "940075b0-2b70-45a1-ab85-284c1cca44c6",
   "metadata": {},
   "outputs": [
    {
     "name": "stdout",
     "output_type": "stream",
     "text": [
      "[ 1  2 30]\n"
     ]
    }
   ],
   "source": [
    "# Array de inteiros\n",
    "array_int = np.array([1, 2, 30], dtype = np.int32)\n",
    "print(array_int)"
   ]
  },
  {
   "cell_type": "markdown",
   "id": "4273fcd2-b15b-49b8-8ea8-6aff0cd5bf20",
   "metadata": {},
   "source": [
    "## Alterar o tipo do array"
   ]
  },
  {
   "cell_type": "code",
   "execution_count": 9,
   "id": "db1f77a4-2bd8-4888-ab3e-78fd59f9b132",
   "metadata": {},
   "outputs": [
    {
     "name": "stdout",
     "output_type": "stream",
     "text": [
      "[1 4 8 9]\n"
     ]
    }
   ],
   "source": [
    "# Alterar de float para inteiro\n",
    "array1 = np.array([1.2, 4.8, 8.3, 9.999])\n",
    "\n",
    "array1_convertido = array1.astype(np.int32)\n",
    "print(array1_convertido)"
   ]
  },
  {
   "cell_type": "code",
   "execution_count": 11,
   "id": "614bca36-32ce-46c6-afaf-df994891c003",
   "metadata": {},
   "outputs": [
    {
     "name": "stdout",
     "output_type": "stream",
     "text": [
      "[1. 6. 8. 3.]\n"
     ]
    }
   ],
   "source": [
    "# Alterar de inteiro para float\n",
    "array2 = np.array([1, 6, 8, 3])\n",
    "\n",
    "array2_int = array2.astype(np.float64)\n",
    "print(array2_int)"
   ]
  },
  {
   "cell_type": "markdown",
   "id": "83ec3de6-b4d6-42bc-9ea1-c867b17b91da",
   "metadata": {},
   "source": [
    "## Arrays multidimensionais"
   ]
  },
  {
   "cell_type": "code",
   "execution_count": 12,
   "id": "4ae30d27-5835-42b6-890f-5149dd87698f",
   "metadata": {},
   "outputs": [
    {
     "name": "stdout",
     "output_type": "stream",
     "text": [
      "[[1 2 3]\n",
      " [3 4 5]]\n"
     ]
    }
   ],
   "source": [
    "# Criar um array bidimensional (matriz)\n",
    "# linhas X colunas \n",
    "matriz = np.array([[1, 2, 3], [3, 4, 5]])\n",
    "print(matriz)"
   ]
  },
  {
   "cell_type": "code",
   "execution_count": 14,
   "id": "760e9823-20c9-42c6-ad25-cac364f5f9f4",
   "metadata": {},
   "outputs": [
    {
     "name": "stdout",
     "output_type": "stream",
     "text": [
      "(2, 3)\n"
     ]
    }
   ],
   "source": [
    "# Para verificar o formato (tamanho) da matriz \n",
    "print(matriz.shape)"
   ]
  },
  {
   "cell_type": "code",
   "execution_count": 15,
   "id": "152525f3-ea84-49b8-ae2f-296748f9dbb6",
   "metadata": {},
   "outputs": [
    {
     "name": "stdout",
     "output_type": "stream",
     "text": [
      "[[0. 0.]\n",
      " [0. 0.]\n",
      " [0. 0.]\n",
      " [0. 0.]]\n"
     ]
    }
   ],
   "source": [
    "# Criar uma matriz contendo elementos de valor zero\n",
    "matriz_zero = np.zeros([4, 2])\n",
    "print(matriz_zero)"
   ]
  },
  {
   "cell_type": "code",
   "execution_count": 16,
   "id": "46489e21-2ce4-460e-9e05-594aec43b114",
   "metadata": {},
   "outputs": [
    {
     "name": "stdout",
     "output_type": "stream",
     "text": [
      "[[1. 1. 1. 1.]\n",
      " [1. 1. 1. 1.]\n",
      " [1. 1. 1. 1.]]\n"
     ]
    }
   ],
   "source": [
    "#Criar uma matriz contendo 1\n",
    "matriz_um = np.ones([3, 4])\n",
    "print(matriz_um)"
   ]
  },
  {
   "cell_type": "code",
   "execution_count": 17,
   "id": "9005af10-5594-4d4c-a9c1-d606e0811fc4",
   "metadata": {},
   "outputs": [
    {
     "name": "stdout",
     "output_type": "stream",
     "text": [
      "[[0 0 0]\n",
      " [0 0 0]]\n"
     ]
    }
   ],
   "source": [
    "# Criar uma matriz 2 X 3 de 0 inteiros \n",
    "matriz_zero_int = np.zeros([2, 3], dtype = np.int32)\n",
    "print(matriz_zero_int)"
   ]
  },
  {
   "cell_type": "code",
   "execution_count": 18,
   "id": "720f1c2c-5c6f-42c9-9da3-af2a7a1ba642",
   "metadata": {},
   "outputs": [
    {
     "name": "stdout",
     "output_type": "stream",
     "text": [
      "[[1. 0. 0.]\n",
      " [0. 1. 0.]\n",
      " [0. 0. 1.]]\n"
     ]
    }
   ],
   "source": [
    "#Matriz identidade\n",
    "# Matriz quadrada (mesmo número de linhas e colunas)\n",
    "# Diagonal principal tem valor 1\n",
    "matriz_identidade = np.eye(3)\n",
    "print(matriz_identidade)"
   ]
  },
  {
   "cell_type": "markdown",
   "id": "3efaa8e5-1eba-4488-a306-647090918a60",
   "metadata": {},
   "source": [
    "## Valores aleatórios"
   ]
  },
  {
   "cell_type": "code",
   "execution_count": 19,
   "id": "0555bea4-5f42-47b9-98f1-1f67f56bbf8c",
   "metadata": {},
   "outputs": [
    {
     "name": "stdout",
     "output_type": "stream",
     "text": [
      "[0.9433353  0.75453907 0.03133133 0.4215831 ]\n"
     ]
    }
   ],
   "source": [
    "# Array com valores aleatórios entre 0 e 1\n",
    "array_aleatorio = np.random.random(4)\n",
    "print(array_aleatorio)"
   ]
  },
  {
   "cell_type": "code",
   "execution_count": 20,
   "id": "ae729897-07a7-4021-a01a-76b987e7b935",
   "metadata": {},
   "outputs": [
    {
     "name": "stdout",
     "output_type": "stream",
     "text": [
      "[[0.00321543 0.73584985 0.18918916]\n",
      " [0.72441171 0.36366217 0.82750029]]\n"
     ]
    }
   ],
   "source": [
    "# Matriz com valores aleatórios entre 0 e 1\n",
    "matriz_aleatoria = np.random.random([2, 3])\n",
    "print(matriz_aleatoria)"
   ]
  },
  {
   "cell_type": "code",
   "execution_count": 22,
   "id": "3cd83e93-040d-448f-87f7-935afff225cd",
   "metadata": {},
   "outputs": [
    {
     "name": "stdout",
     "output_type": "stream",
     "text": [
      "[1 0 3 2 1]\n"
     ]
    }
   ],
   "source": [
    "# Array de valores aleatorios inteiros\n",
    "array_ale_int = np.random.randint(4, size = 5) #0, 1, 2, 3\n",
    "print(array_ale_int)"
   ]
  },
  {
   "cell_type": "code",
   "execution_count": 25,
   "id": "d2ffdb0c-b1fc-4703-87b8-f6662ddec92e",
   "metadata": {},
   "outputs": [
    {
     "name": "stdout",
     "output_type": "stream",
     "text": [
      "[[ 8 10  3  5]\n",
      " [ 7  6  8  8]\n",
      " [ 5  9  0 10]]\n"
     ]
    }
   ],
   "source": [
    "# Matriz de valores aleatorios inteiros\n",
    "matriz_ale_int = np.random.randint(11, size = (3, 4))\n",
    "print(matriz_ale_int)"
   ]
  },
  {
   "cell_type": "markdown",
   "id": "8f6f293a-4ee9-4764-bced-a2738336b20c",
   "metadata": {},
   "source": [
    "## Funções Matemáticas"
   ]
  },
  {
   "cell_type": "code",
   "execution_count": 27,
   "id": "85f68288-6c7a-4c53-aa90-6e3ba5473a00",
   "metadata": {},
   "outputs": [
    {
     "name": "stdout",
     "output_type": "stream",
     "text": [
      "[[ 1  4  5]\n",
      " [12 -3  8]]\n"
     ]
    }
   ],
   "source": [
    "# Criar uma matriz para testes\n",
    "matriz_teste = np.array([[1, 4, 5], [12, -3, 8]])\n",
    "print(matriz_teste)"
   ]
  },
  {
   "cell_type": "code",
   "execution_count": 28,
   "id": "c6272bfc-fa2c-47dd-ac9c-69e85c0065d6",
   "metadata": {},
   "outputs": [
    {
     "name": "stdout",
     "output_type": "stream",
     "text": [
      "12\n"
     ]
    }
   ],
   "source": [
    "# Maior valor da matriz\n",
    "print(matriz_teste.max())"
   ]
  },
  {
   "cell_type": "code",
   "execution_count": 29,
   "id": "b007aec1-4c20-4a6e-aeb0-3fe60bbe3414",
   "metadata": {},
   "outputs": [
    {
     "name": "stdout",
     "output_type": "stream",
     "text": [
      "-3\n"
     ]
    }
   ],
   "source": [
    "# Menor valor da matriz\n",
    "print(matriz_teste.min())"
   ]
  },
  {
   "cell_type": "code",
   "execution_count": 30,
   "id": "88d68e25-0f13-40ee-9ef2-8d46072a3daf",
   "metadata": {},
   "outputs": [
    {
     "name": "stdout",
     "output_type": "stream",
     "text": [
      "27\n"
     ]
    }
   ],
   "source": [
    "# Soma dos valores da matriz\n",
    "print(matriz_teste.sum())"
   ]
  },
  {
   "cell_type": "code",
   "execution_count": 31,
   "id": "d7e9fa3c-9405-459a-b66c-9f7a24323d4c",
   "metadata": {},
   "outputs": [
    {
     "name": "stdout",
     "output_type": "stream",
     "text": [
      "4.5\n"
     ]
    }
   ],
   "source": [
    "# Média dos valores da matriz\n",
    "print(matriz_teste.mean())"
   ]
  },
  {
   "cell_type": "code",
   "execution_count": 32,
   "id": "eacb1838-ed33-4588-832c-9ce0c2b7a016",
   "metadata": {},
   "outputs": [
    {
     "name": "stdout",
     "output_type": "stream",
     "text": [
      "[[  4   9  25]\n",
      " [ 16  64  36]\n",
      " [ 81  49 100]]\n"
     ]
    }
   ],
   "source": [
    "# Raiz quadrada\n",
    "matriz_teste2 = np.array([[4, 9, 25], [16, 64, 36], [81, 49, 100]])\n",
    "print(matriz_teste2)"
   ]
  },
  {
   "cell_type": "code",
   "execution_count": 33,
   "id": "dd00b7ed-d6c8-49ab-ae3b-477cab4936c3",
   "metadata": {},
   "outputs": [
    {
     "name": "stdout",
     "output_type": "stream",
     "text": [
      "[[ 2.  3.  5.]\n",
      " [ 4.  8.  6.]\n",
      " [ 9.  7. 10.]]\n"
     ]
    }
   ],
   "source": [
    "print(np.sqrt(matriz_teste2))"
   ]
  },
  {
   "cell_type": "code",
   "execution_count": 34,
   "id": "b4b0b6a9-b23a-47e6-87f9-a9e66b441098",
   "metadata": {},
   "outputs": [
    {
     "name": "stdout",
     "output_type": "stream",
     "text": [
      "[ 4  9 25]\n"
     ]
    }
   ],
   "source": [
    "# Potências\n",
    "array_teste = np.array([2, 3, 5])\n",
    "\n",
    "#Quadrado dos elementos\n",
    "print(np.power(array_teste, 2))"
   ]
  },
  {
   "cell_type": "code",
   "execution_count": 35,
   "id": "074c47a0-0e3f-4f41-b14a-16863c3bab3b",
   "metadata": {},
   "outputs": [
    {
     "name": "stdout",
     "output_type": "stream",
     "text": [
      "[  8  27 125]\n"
     ]
    }
   ],
   "source": [
    "# Elementos elevados à 3a. potência\n",
    "print(np.power(array_teste, 3))"
   ]
  },
  {
   "cell_type": "markdown",
   "id": "3853becf-6493-436a-bbe7-d0e1cccc15a1",
   "metadata": {},
   "source": [
    "## Extração de elementos"
   ]
  },
  {
   "cell_type": "code",
   "execution_count": 36,
   "id": "afeb5d0d-0bc4-408c-a9c5-7918e798b19f",
   "metadata": {},
   "outputs": [
    {
     "name": "stdout",
     "output_type": "stream",
     "text": [
      "[1 3 5 7 8 6 4]\n"
     ]
    }
   ],
   "source": [
    "array_teste = np.array([1, 3, 5, 7, 8, 6, 4])\n",
    "print(array_teste)"
   ]
  },
  {
   "cell_type": "code",
   "execution_count": 37,
   "id": "981abb2b-2229-4eb5-92ba-ea336874c2fa",
   "metadata": {},
   "outputs": [
    {
     "name": "stdout",
     "output_type": "stream",
     "text": [
      "1\n"
     ]
    }
   ],
   "source": [
    "# Primeiro elemento do array\n",
    "print(array_teste[0])"
   ]
  },
  {
   "cell_type": "code",
   "execution_count": 38,
   "id": "4cd83a6d-4e2a-4f04-81a4-a5db45b5a699",
   "metadata": {},
   "outputs": [
    {
     "name": "stdout",
     "output_type": "stream",
     "text": [
      "5\n"
     ]
    }
   ],
   "source": [
    "# Terceiro elemento do array\n",
    "print(array_teste[2])"
   ]
  },
  {
   "cell_type": "code",
   "execution_count": 39,
   "id": "68e144fc-62d0-45f3-88c3-61fbfa392afd",
   "metadata": {},
   "outputs": [
    {
     "name": "stdout",
     "output_type": "stream",
     "text": [
      "[5 7 8]\n"
     ]
    }
   ],
   "source": [
    "# Intervalo entre o 3o e 5o elementos\n",
    "print(array_teste[2:5])"
   ]
  },
  {
   "cell_type": "code",
   "execution_count": 40,
   "id": "2f14d880-638b-4496-95fa-dde849c8a745",
   "metadata": {},
   "outputs": [
    {
     "name": "stdout",
     "output_type": "stream",
     "text": [
      "[1 3 5]\n"
     ]
    }
   ],
   "source": [
    "# Três primeiros elementos do array\n",
    "print(array_teste[:3])"
   ]
  },
  {
   "cell_type": "code",
   "execution_count": 41,
   "id": "f19e8da0-7eac-4d62-95ef-50a1034b2833",
   "metadata": {},
   "outputs": [
    {
     "name": "stdout",
     "output_type": "stream",
     "text": [
      "[5 7 8 6 4]\n"
     ]
    }
   ],
   "source": [
    "# Exibir os elementos a partir da posição 2 até o final\n",
    "print(array_teste[2:])"
   ]
  },
  {
   "cell_type": "code",
   "execution_count": 42,
   "id": "2b010300-0ade-4385-8c9f-bfaea4d55bf1",
   "metadata": {},
   "outputs": [
    {
     "name": "stdout",
     "output_type": "stream",
     "text": [
      "[7 8 6 4]\n"
     ]
    }
   ],
   "source": [
    "# Exibir os 4 últimos elementos do array\n",
    "print(array_teste[-4:])"
   ]
  },
  {
   "cell_type": "markdown",
   "id": "677268ae-60a3-457b-823d-76094b417fab",
   "metadata": {},
   "source": [
    "## Extração dos elementos da matriz"
   ]
  },
  {
   "cell_type": "code",
   "execution_count": 45,
   "id": "c23a917c-809a-4256-b30d-7d6127efdca3",
   "metadata": {},
   "outputs": [
    {
     "name": "stdout",
     "output_type": "stream",
     "text": [
      "[[4 2 1]\n",
      " [5 3 7]\n",
      " [6 8 9]]\n"
     ]
    }
   ],
   "source": [
    "# Criar uma matriz teste\n",
    "matriz_teste = np.array([[4, 2, 1], [5, 3, 7], [6, 8, 9]])\n",
    "print(matriz_teste)"
   ]
  },
  {
   "cell_type": "code",
   "execution_count": 46,
   "id": "1a3a7806-afab-4fb0-a74e-0345d5b3f639",
   "metadata": {},
   "outputs": [
    {
     "name": "stdout",
     "output_type": "stream",
     "text": [
      "2\n"
     ]
    }
   ],
   "source": [
    "#Exibindo o elemento 2o. elemento da primeira linha\n",
    "print(matriz_teste[0, 1])"
   ]
  },
  {
   "cell_type": "code",
   "execution_count": 47,
   "id": "a4932b1e-6b13-4bd8-95a0-20626e8fc868",
   "metadata": {},
   "outputs": [
    {
     "name": "stdout",
     "output_type": "stream",
     "text": [
      "[5 3 7]\n",
      "[5 3 7]\n"
     ]
    }
   ],
   "source": [
    "#Exibir a segunda linha\n",
    "print(matriz_teste[1, :])\n",
    "print(matriz_teste[1])"
   ]
  },
  {
   "cell_type": "code",
   "execution_count": 49,
   "id": "a4acf415-ec2b-45e3-a96f-915de22a96c2",
   "metadata": {},
   "outputs": [
    {
     "name": "stdout",
     "output_type": "stream",
     "text": [
      "[1 7 9]\n"
     ]
    }
   ],
   "source": [
    "#Exibir a terceira coluna\n",
    "print(matriz_teste[:, 2])"
   ]
  },
  {
   "cell_type": "code",
   "execution_count": 52,
   "id": "fe0136ea-846e-44ad-8477-0fe3b7784cd2",
   "metadata": {},
   "outputs": [
    {
     "name": "stdout",
     "output_type": "stream",
     "text": [
      "[[2 1]\n",
      " [3 7]]\n"
     ]
    }
   ],
   "source": [
    "'''\n",
    "Imprimir a matriz \n",
    "[2 1]\n",
    "[3 7]\n",
    "'''\n",
    "print(matriz_teste[:2, 1:])"
   ]
  },
  {
   "cell_type": "markdown",
   "id": "9df2fadf-2a3c-40c8-9d80-d14bcb38e02b",
   "metadata": {},
   "source": [
    "## Operações entre matrizes"
   ]
  },
  {
   "cell_type": "code",
   "execution_count": 53,
   "id": "d609937a-9eed-438c-a407-17592af3d9ee",
   "metadata": {},
   "outputs": [
    {
     "name": "stdout",
     "output_type": "stream",
     "text": [
      "[[1 2]\n",
      " [3 4]]\n",
      "-----------\n",
      "[[5 6]\n",
      " [7 8]]\n"
     ]
    }
   ],
   "source": [
    "m1 = np.array([[1, 2], [3, 4]])\n",
    "m2 = np.array([[5, 6], [7, 8]])\n",
    "\n",
    "print(m1)\n",
    "print(\"-----------\")\n",
    "print(m2)"
   ]
  },
  {
   "cell_type": "code",
   "execution_count": 54,
   "id": "8c8b67d5-f703-4522-924b-ac79a10c639e",
   "metadata": {},
   "outputs": [
    {
     "name": "stdout",
     "output_type": "stream",
     "text": [
      "[[ 6  8]\n",
      " [10 12]]\n"
     ]
    }
   ],
   "source": [
    "# Soma\n",
    "# O tamanho das matrizes deve ser igual\n",
    "print(m1 + m2)"
   ]
  },
  {
   "cell_type": "code",
   "execution_count": 55,
   "id": "2e5131e4-e956-442a-b9c4-80c248972765",
   "metadata": {},
   "outputs": [
    {
     "name": "stdout",
     "output_type": "stream",
     "text": [
      "[[-4 -4]\n",
      " [-4 -4]]\n"
     ]
    }
   ],
   "source": [
    "#Subtração\n",
    "print(m1 - m2)"
   ]
  },
  {
   "cell_type": "code",
   "execution_count": 56,
   "id": "14f96b00-40ba-4e89-838f-4070d81d7bbb",
   "metadata": {},
   "outputs": [
    {
     "name": "stdout",
     "output_type": "stream",
     "text": [
      "[[1 3]\n",
      " [3 5]]\n"
     ]
    }
   ],
   "source": [
    "# Caso especial\n",
    "m3 = np.array([0, 1])\n",
    "\n",
    "print(m1 + m3)"
   ]
  },
  {
   "cell_type": "code",
   "execution_count": 57,
   "id": "6b97f73a-f078-48d9-8075-f8f30b4fe1f7",
   "metadata": {},
   "outputs": [
    {
     "name": "stdout",
     "output_type": "stream",
     "text": [
      "[[ 5 12]\n",
      " [21 32]]\n"
     ]
    }
   ],
   "source": [
    "# Multiplicação entre matrizes\n",
    "print(m1 * m2)"
   ]
  },
  {
   "cell_type": "code",
   "execution_count": 58,
   "id": "8d8472e0-9996-491b-8ca8-8243d16e0b47",
   "metadata": {},
   "outputs": [
    {
     "name": "stdout",
     "output_type": "stream",
     "text": [
      "[[19 22]\n",
      " [43 50]]\n"
     ]
    }
   ],
   "source": [
    "# Multiplicação entre matrizes da forma matemática\n",
    "print(np.dot(m1, m2))"
   ]
  },
  {
   "cell_type": "markdown",
   "id": "dd7a0f74-8dd7-45d9-8be2-32e75a6840cf",
   "metadata": {},
   "source": [
    "## Where"
   ]
  },
  {
   "cell_type": "code",
   "execution_count": 59,
   "id": "b9b83b44-7db3-41be-9402-051596e69dbf",
   "metadata": {},
   "outputs": [
    {
     "name": "stdout",
     "output_type": "stream",
     "text": [
      "[[  0   1   3]\n",
      " [ -2   5   8]\n",
      " [  4 -12   7]]\n"
     ]
    }
   ],
   "source": [
    "#Criar uma matriz 3 x3\n",
    "matriz3 = np.array([[0, 1, 3], [-2, 5, 8], [4, -12, 7]])\n",
    "print(matriz3)"
   ]
  },
  {
   "cell_type": "code",
   "execution_count": 61,
   "id": "4bf45178-5bc1-4a1e-96d3-58c6b667426b",
   "metadata": {},
   "outputs": [
    {
     "name": "stdout",
     "output_type": "stream",
     "text": [
      "[[0 0 0]\n",
      " [0 1 1]\n",
      " [1 0 1]]\n"
     ]
    }
   ],
   "source": [
    "# Criar uma nova matriz contendo valores 0, onde o elemento é menor que 4\n",
    "# e 1, nos outros casos\n",
    "# Semelhante ao operador ternário\n",
    "matriz_nova = np.where(matriz3 < 4, 0, 1)\n",
    "print(matriz_nova)"
   ]
  },
  {
   "cell_type": "code",
   "execution_count": null,
   "id": "05393614-0c3f-47d7-b398-128fba43aff6",
   "metadata": {},
   "outputs": [],
   "source": []
  }
 ],
 "metadata": {
  "kernelspec": {
   "display_name": "Python 3 (ipykernel)",
   "language": "python",
   "name": "python3"
  },
  "language_info": {
   "codemirror_mode": {
    "name": "ipython",
    "version": 3
   },
   "file_extension": ".py",
   "mimetype": "text/x-python",
   "name": "python",
   "nbconvert_exporter": "python",
   "pygments_lexer": "ipython3",
   "version": "3.12.7"
  }
 },
 "nbformat": 4,
 "nbformat_minor": 5
}
