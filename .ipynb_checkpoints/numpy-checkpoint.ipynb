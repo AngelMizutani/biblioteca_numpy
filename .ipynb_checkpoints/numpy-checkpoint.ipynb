{
 "cells": [
  {
   "cell_type": "markdown",
   "id": "5aff0b46-250f-4596-a543-7ed664f3d6f8",
   "metadata": {},
   "source": [
    "# Numpy\n",
    "numeric python\n",
    "Arrays, arrays multidimensionais (matriz)\n",
    "Elementos tem que ter o mesmo\n",
    "Processamento rápido"
   ]
  },
  {
   "cell_type": "code",
   "execution_count": 1,
   "id": "533a0cee-2b09-434b-90f0-e017b6aa7964",
   "metadata": {},
   "outputs": [],
   "source": [
    "# importar a biblioteca\n",
    "import numpy as np"
   ]
  },
  {
   "cell_type": "code",
   "execution_count": 2,
   "id": "59768b5c-1a58-49a3-8c8f-853106577c17",
   "metadata": {},
   "outputs": [
    {
     "name": "stdout",
     "output_type": "stream",
     "text": [
      "[1 3 5 7]\n"
     ]
    }
   ],
   "source": [
    "# Criar um array\n",
    "array = np.array([1, 3, 5, 7])\n",
    "print(array)"
   ]
  },
  {
   "cell_type": "code",
   "execution_count": 3,
   "id": "8ecd8383-b6ee-4dc8-b764-106690e545c1",
   "metadata": {},
   "outputs": [
    {
     "name": "stdout",
     "output_type": "stream",
     "text": [
      "<class 'numpy.ndarray'>\n"
     ]
    }
   ],
   "source": [
    "#Tipo: type()\n",
    "print(type(array))"
   ]
  },
  {
   "cell_type": "code",
   "execution_count": 4,
   "id": "4e830334-092c-4cf1-b455-e53782d6f339",
   "metadata": {},
   "outputs": [
    {
     "name": "stdout",
     "output_type": "stream",
     "text": [
      "[1.2     3.6     4.99999]\n"
     ]
    }
   ],
   "source": [
    "# Definir o tipo dos elementos\n",
    "# Array de floats\n",
    "array_float = np.array([1.2, 3.6, 4.99999])\n",
    "print(array_float)"
   ]
  },
  {
   "cell_type": "code",
   "execution_count": 6,
   "id": "02a9f926-553a-4b67-850c-04d979f06749",
   "metadata": {},
   "outputs": [
    {
     "name": "stdout",
     "output_type": "stream",
     "text": [
      "[ 1.  2. 30.]\n"
     ]
    }
   ],
   "source": [
    "array_float = np.array([1, 2, 30], dtype = np.float64)\n",
    "print(array_float)"
   ]
  },
  {
   "cell_type": "code",
   "execution_count": 7,
   "id": "940075b0-2b70-45a1-ab85-284c1cca44c6",
   "metadata": {},
   "outputs": [
    {
     "name": "stdout",
     "output_type": "stream",
     "text": [
      "[ 1  2 30]\n"
     ]
    }
   ],
   "source": [
    "# Array de inteiros\n",
    "array_int = np.array([1, 2, 30], dtype = np.int32)\n",
    "print(array_int)"
   ]
  },
  {
   "cell_type": "code",
   "execution_count": null,
   "id": "c88b8db4-331e-4592-97b2-50b089dac5ec",
   "metadata": {},
   "outputs": [],
   "source": []
  }
 ],
 "metadata": {
  "kernelspec": {
   "display_name": "Python 3 (ipykernel)",
   "language": "python",
   "name": "python3"
  },
  "language_info": {
   "codemirror_mode": {
    "name": "ipython",
    "version": 3
   },
   "file_extension": ".py",
   "mimetype": "text/x-python",
   "name": "python",
   "nbconvert_exporter": "python",
   "pygments_lexer": "ipython3",
   "version": "3.12.7"
  }
 },
 "nbformat": 4,
 "nbformat_minor": 5
}
